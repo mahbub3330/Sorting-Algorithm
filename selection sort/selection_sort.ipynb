{
 "cells": [
  {
   "cell_type": "code",
   "execution_count": 12,
   "metadata": {},
   "outputs": [
    {
     "name": "stdout",
     "output_type": "stream",
     "text": [
      "[4, 1, 6, 2, 27, 3, 7, 23, 16]\n",
      "[1, 2, 3, 4, 6, 7, 16, 23, 27]\n"
     ]
    }
   ],
   "source": [
    "#-----------------------\n",
    "#Selection sort\n",
    "#-----------------------\n",
    "\n",
    "def selection_sort(A):\n",
    "    for i in range(0,len(A)-1):\n",
    "        index = i\n",
    "        for j in range(i+1,len(A)):\n",
    "            if (A[index]>A[j]):\n",
    "                index=j\n",
    "#         print(index)\n",
    "        if index!=i:\n",
    "            A[i],A[index]=A[index],A[i]\n",
    "A = [4,1,6,2,27,3,7,23,16]\n",
    "print(A)\n",
    "selection_sort(A)\n",
    "print(A)"
   ]
  },
  {
   "cell_type": "code",
   "execution_count": null,
   "metadata": {},
   "outputs": [],
   "source": []
  }
 ],
 "metadata": {
  "kernelspec": {
   "display_name": "Python 3",
   "language": "python",
   "name": "python3"
  },
  "language_info": {
   "codemirror_mode": {
    "name": "ipython",
    "version": 3
   },
   "file_extension": ".py",
   "mimetype": "text/x-python",
   "name": "python",
   "nbconvert_exporter": "python",
   "pygments_lexer": "ipython3",
   "version": "3.7.3"
  }
 },
 "nbformat": 4,
 "nbformat_minor": 2
}
