{
 "cells": [
  {
   "cell_type": "code",
   "execution_count": 18,
   "metadata": {},
   "outputs": [
    {
     "name": "stdout",
     "output_type": "stream",
     "text": [
      "Enter number of element for making your list: 3\n",
      "1\n",
      "5\n",
      "2\n"
     ]
    }
   ],
   "source": [
    "#----------------\n",
    "# merge sort\n",
    "#----------------\n",
    "\n",
    "def merge_sort(A,first_index,last_index):\n",
    "    if first_index<last_index:\n",
    "        middle_index = (first_index + last_index )//2  \n",
    "        \n",
    "        merge_sort(A,first_index,middle_index) \n",
    "        merge_sort(A,middle_index+1,last_index)\n",
    "        \n",
    "        merge(A,first_index,middle_index,last_index)\n",
    "\n",
    "def merge(A,first_index,middle_index,last_index):\n",
    "    \n",
    "    Left = A[first_index:middle_index+1]\n",
    "    Right = A[middle_index+1:last_index+1]\n",
    "    \n",
    "    Left.append(999999)\n",
    "    Right.append(999999)\n",
    "    \n",
    "    i = j = 0\n",
    "    \n",
    "    for c in range(first_index,last_index+1):\n",
    "        if Left[i]<= Right[j]:\n",
    "            A[c] = Left[i]\n",
    "            i += 1\n",
    "        else:\n",
    "            A[c] = Right[j]\n",
    "            j += 1\n",
    "            \n",
    "            \n",
    "number= int(input(\"Enter number of element for making your list: \"))\n",
    "list1 = [int(input()) for x in range(number)]\n"
   ]
  },
  {
   "cell_type": "code",
   "execution_count": 19,
   "metadata": {},
   "outputs": [
    {
     "data": {
      "text/plain": [
       "[1, 2, 5]"
      ]
     },
     "execution_count": 19,
     "metadata": {},
     "output_type": "execute_result"
    }
   ],
   "source": [
    "merge_sort(list1,0,len(list1)-1)\n",
    "list1  "
   ]
  },
  {
   "cell_type": "code",
   "execution_count": null,
   "metadata": {},
   "outputs": [],
   "source": []
  }
 ],
 "metadata": {
  "kernelspec": {
   "display_name": "Python 3",
   "language": "python",
   "name": "python3"
  },
  "language_info": {
   "codemirror_mode": {
    "name": "ipython",
    "version": 3
   },
   "file_extension": ".py",
   "mimetype": "text/x-python",
   "name": "python",
   "nbconvert_exporter": "python",
   "pygments_lexer": "ipython3",
   "version": "3.7.3"
  }
 },
 "nbformat": 4,
 "nbformat_minor": 2
}
