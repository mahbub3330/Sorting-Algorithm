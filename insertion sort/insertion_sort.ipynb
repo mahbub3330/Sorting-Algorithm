{
 "cells": [
  {
   "cell_type": "code",
   "execution_count": 38,
   "metadata": {},
   "outputs": [
    {
     "name": "stdout",
     "output_type": "stream",
     "text": [
      "[4, 1, 6, 2, 27, 3, 7, 23, 16]\n",
      "[1, 2, 3, 4, 6, 7, 16, 23, 27]\n"
     ]
    }
   ],
   "source": [
    "#-------------------\n",
    "#insertion sort\n",
    "#-------------------\n",
    "\n",
    "#insertion sort using current value\n",
    "def insertion_sort(A):\n",
    "    for i in range(1,len(A)):\n",
    "        current_number = A[i]\n",
    "        for j in range(i-1,-1,-1):\n",
    "            if A[j] > current_number:\n",
    "                A[j+1] = A[j]\n",
    "                A[j] = current_number\n",
    "            else:\n",
    "                break\n",
    "                \n",
    "\n",
    "\n",
    "    \n",
    "A = [4,1,6,2,27,3,7,23,16]\n",
    "print(A)\n",
    "insertion_sort(A)\n",
    "print(A)"
   ]
  },
  {
   "cell_type": "code",
   "execution_count": 35,
   "metadata": {},
   "outputs": [
    {
     "name": "stdout",
     "output_type": "stream",
     "text": [
      "[4, 2, 7, 1, 7, 9]\n",
      "[1, 2, 4, 7, 7, 9]\n"
     ]
    }
   ],
   "source": [
    "#insertion sort without current value using for loop               \n",
    "def insertion_sort1(A):\n",
    "    for i in range(1,len(A)):\n",
    "        for j in range(i-1,-1,-1):\n",
    "            if A[j] > A[j+1]:\n",
    "                A[j],A[j+1] = A[j+1],A[j]\n",
    "            else:\n",
    "                break\n",
    "B = [4,2,7,1,7,9]\n",
    "print(B)\n",
    "insertion_sort1(B)\n",
    "print(B)"
   ]
  },
  {
   "cell_type": "code",
   "execution_count": 34,
   "metadata": {},
   "outputs": [
    {
     "name": "stdout",
     "output_type": "stream",
     "text": [
      "[1, 6, 3, 9, 2, 7]\n",
      "[1, 2, 3, 6, 7, 9]\n"
     ]
    }
   ],
   "source": [
    "#insertion sort using current value using while loop\n",
    "def insertion_sort2(A):\n",
    "    for i in range(1,len(A)):\n",
    "        j = i-1\n",
    "        while ( A[j]>A[j+1] and  j >= 0):\n",
    "            A[j],A[j+1] = A[j+1],A[j]\n",
    "            j-=1\n",
    "C = [1,6,3,9,2,7]\n",
    "print(C)\n",
    "insertion_sort2(C)\n",
    "print(C)"
   ]
  },
  {
   "cell_type": "code",
   "execution_count": null,
   "metadata": {},
   "outputs": [],
   "source": []
  }
 ],
 "metadata": {
  "kernelspec": {
   "display_name": "Python 3",
   "language": "python",
   "name": "python3"
  },
  "language_info": {
   "codemirror_mode": {
    "name": "ipython",
    "version": 3
   },
   "file_extension": ".py",
   "mimetype": "text/x-python",
   "name": "python",
   "nbconvert_exporter": "python",
   "pygments_lexer": "ipython3",
   "version": "3.7.3"
  }
 },
 "nbformat": 4,
 "nbformat_minor": 2
}
