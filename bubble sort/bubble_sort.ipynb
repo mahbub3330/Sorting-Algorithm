{
 "cells": [
  {
   "cell_type": "code",
   "execution_count": 3,
   "metadata": {},
   "outputs": [
    {
     "name": "stdout",
     "output_type": "stream",
     "text": [
      "[1, 2, 3, 4, 5, 7, 12]\n"
     ]
    }
   ],
   "source": [
    "#-------------------\n",
    "#Bubble sort\n",
    "#-------------------\n",
    "\n",
    "def bubble_sort(A):\n",
    "    for i in range(len(A)-1,0,-1):\n",
    "        for j in range(i):\n",
    "            if A[j]>A[j+1]:\n",
    "                A[j+1],A[j]=A[j],A[j+1]\n",
    "A=[7,4,2,5,12,1,3]\n",
    "bubble_sort(A)\n",
    "print(A)"
   ]
  },
  {
   "cell_type": "code",
   "execution_count": null,
   "metadata": {},
   "outputs": [],
   "source": []
  }
 ],
 "metadata": {
  "kernelspec": {
   "display_name": "Python 3",
   "language": "python",
   "name": "python3"
  },
  "language_info": {
   "codemirror_mode": {
    "name": "ipython",
    "version": 3
   },
   "file_extension": ".py",
   "mimetype": "text/x-python",
   "name": "python",
   "nbconvert_exporter": "python",
   "pygments_lexer": "ipython3",
   "version": "3.7.3"
  }
 },
 "nbformat": 4,
 "nbformat_minor": 2
}
